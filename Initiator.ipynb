{
 "cells": [
  {
   "cell_type": "markdown",
   "metadata": {},
   "source": [
    "# Task 1.1\n",
    "\n"
   ]
  },
  {
   "cell_type": "markdown",
   "metadata": {},
   "source": [
    "Write an algorithm to check if a node,\n",
    "say A, is good to be the initiator node\n",
    "for CL algorithm"
   ]
  },
  {
   "cell_type": "markdown",
   "metadata": {},
   "source": [
    "# Concept"
   ]
  },
  {
   "cell_type": "markdown",
   "metadata": {},
   "source": [
    "To initiate Chandy-Lamport algorithm at first we need to select the initiator node that starts\n",
    "algorithm by sending marker (or special message) to all other neighbour nodes in the connected\n",
    "directed graph topology in which the distributed system is assumed to be organized. So for successful\n",
    "implementation of Chandy-Lamport algorithm it depends on good selection of initiator node for\n",
    "initiating the algorithm. For that reason it is important to check whether a node of the directed graph\n",
    "topology is good to be the initiator node for successful implementation of Chandy-Lamport algorithm.\n",
    "A good initiator node for Chandy-Lamport algorithm is a node from which all other nodes in the\n",
    "graph topology are reachable.\n",
    "A node which is a sink node (in graph terminology) i.e whose outdegree is zero that cannot be a good\n",
    "initiator node. Since the node has outdegree zero , so from that node we cannot reach to any other\n",
    "node in graph topology. That means an initiator node cannot have outdegree zero but may have\n",
    "indegree zero.\n",
    "A node to be a good initiator node for Chandy-Lamport algorithm must satisfy the following\n",
    "properties;\n",
    "a)the node should have non-zero outdegree and may have indegree zero.\n",
    "b)from that node it is possible reach all other node in the graph topology i.e in the graph there\n",
    "should be atleast one path to reach all other node of the graph topology from the initiator\n",
    "node.\n",
    "Note that; If the network has more than one node with indegree zero, then Chandy-Lamport algorithm\n",
    "will not work. Since indegree of the node is zero, it will not possible to reach that node from the\n",
    "initiator node."
   ]
  },
  {
   "cell_type": "code",
   "execution_count": 4,
   "metadata": {},
   "outputs": [
    {
     "name": "stdout",
     "output_type": "stream",
     "text": [
      "enter number of nodes6\n",
      "enter number of edges9\n",
      "enter the directed edges between two nodes\n",
      "enter edge: 0 1\n",
      "enter edge: 0 2\n",
      "enter edge: 1 2\n",
      "enter edge: 2 0\n",
      "enter edge: 2 3\n",
      "enter edge: 3 3\n",
      "enter edge: 3 5\n",
      "enter edge: 5 1\n",
      "enter edge: 1 4\n",
      "enter the node for which you want to check: 1\n",
      "1 is a good initiator\n"
     ]
    }
   ],
   "source": [
    "from collections import defaultdict\n",
    "q = []\n",
    "class Graph:\n",
    " \n",
    "    # Constructor\n",
    "    def __init__(self):\n",
    " \n",
    "        # default dictionary to store graph\n",
    "        self.graph = defaultdict(list)\n",
    " \n",
    "    # function to add an edge to graph\n",
    "    def addEdge(self,u,v):\n",
    "        self.graph[u].append(v)\n",
    " \n",
    "    # Function to find good initiator\n",
    "    def isgoodinitiator(self, s):\n",
    " \n",
    "        # a set visited is created\n",
    "        #to keep track of visited element\n",
    "        visited = set()\n",
    "        initiator=s\n",
    "        # Create a queue \n",
    "        queue = []\n",
    " \n",
    "        # Add the possible initiator \n",
    "        # node in visited\n",
    "        #and enqueue it\n",
    "        queue.append(s)\n",
    "        visited.add(s)\n",
    " \n",
    "        while queue:\n",
    " \n",
    "            # Dequeue a vertex from\n",
    "            # queue and insert it in q\n",
    "            s = queue.pop(0)\n",
    "            q.append(s)\n",
    " \n",
    "            # Get all adjacent vertices of the\n",
    "            # dequeued vertex s. If a adjacent\n",
    "            # has not been visited, then mark it\n",
    "            # visited and enqueue it\n",
    "            for i in self.graph[s]:\n",
    "                if i not in visited:\n",
    "                    queue.append(i)\n",
    "                    visited.add(i)\n",
    "        if(len(q)==node):\n",
    "            print(\"{} is a good initiator\".format(initiator))\n",
    "        else:\n",
    "            print(\"{} is not a good initiator\".format(initiator))\n",
    " \n",
    "# Driver code\n",
    " \n",
    "# Create a graph given in\n",
    "# the above diagram\n",
    "g = Graph()\n",
    "node=int(input(\"enter number of nodes\"))\n",
    "edge=int(input(\"enter number of edges\"))\n",
    "\n",
    "# taking edges as input\n",
    "# from the user\n",
    "print(\"enter the directed edges between two nodes\")\n",
    "for i in range(edge):\n",
    "    n,m=(int(x) for x in input(\"enter edge: \").split())\n",
    "    g.addEdge(n,m)\n",
    "    \n",
    "\n",
    "xx=int(input(\"enter the node for which you want to check: \")) \n",
    "g.isgoodinitiator(xx)"
   ]
  },
  {
   "cell_type": "markdown",
   "metadata": {},
   "source": [
    "# Task 1.2"
   ]
  },
  {
   "cell_type": "markdown",
   "metadata": {},
   "source": [
    "Improve your solution to list all the\n",
    "nodes for the given use case, that\n",
    "are good to be initiator node for CL\n",
    "algorithm."
   ]
  },
  {
   "cell_type": "code",
   "execution_count": 3,
   "metadata": {},
   "outputs": [
    {
     "name": "stdout",
     "output_type": "stream",
     "text": [
      "enter number of nodes6\n",
      "enter number of edges9\n",
      "enter edge: 0 1\n",
      "enter edge: 0 2\n",
      "enter edge: 1 2\n",
      "enter edge: 2 0\n",
      "enter edge: 2 3\n",
      "enter edge: 3 3\n",
      "enter edge: 3 5\n",
      "enter edge: 5 1\n",
      "enter edge: 1 4\n",
      "enter all the nodes in a space seperated manner: 0 1 2 3 4 5\n",
      "0 is good initiator\n",
      "1 is good initiator\n",
      "2 is good initiator\n",
      "3 is good initiator\n",
      "4 is not a good initiator\n",
      "5 is good initiator\n"
     ]
    }
   ],
   "source": [
    "from collections import defaultdict\n",
    "\n",
    "class Graph:\n",
    " \n",
    "    # Constructor\n",
    "    def __init__(self):\n",
    " \n",
    "        # default dictionary to store graph\n",
    "        self.graph = defaultdict(list)\n",
    " \n",
    "    # function to add an edge to graph\n",
    "    def addEdge(self,u,v):\n",
    "        self.graph[u].append(v)\n",
    " \n",
    "    # Function to find good initiator\n",
    "    def isgoodinitiator(self, s):\n",
    " \n",
    "        # a set visited is created\n",
    "        #to keep track of visited element\n",
    "        visited = set()\n",
    "        #copied value of the node\n",
    "        #which we want to check\n",
    "        #in another varaible\n",
    "        initiator=s\n",
    "        # Create a queue \n",
    "        queue = []\n",
    "        q= []\n",
    "        # Add the possible initiator \n",
    "        # node in visited\n",
    "        #and enqueue it\n",
    "        queue.append(s)\n",
    "        visited.add(s)\n",
    " \n",
    "        while queue:\n",
    " \n",
    "            # Dequeue a vertex from\n",
    "            # queue and insert it in q\n",
    "            s = queue.pop(0)\n",
    "            q.append(s)\n",
    " \n",
    "            # Get all adjacent vertices of the\n",
    "            # dequeued vertex s. If a adjacent\n",
    "            # has not been visited, then mark it\n",
    "            # visited and enqueue it\n",
    "            for i in self.graph[s]:\n",
    "                if i not in visited:\n",
    "                    queue.append(i)\n",
    "                    visited.add(i)\n",
    "        if(len(q)==node):\n",
    "            print(\"{} is good initiator\".format(initiator))\n",
    "        else:\n",
    "            print(\"{} is not a good initiator\".format(initiator))\n",
    " \n",
    "# Driver code\n",
    " \n",
    "# Create a graph given in\n",
    "# the above diagram\n",
    "g = Graph()\n",
    "node=int(input(\"enter number of nodes\"))\n",
    "edge=int(input(\"enter number of edges\"))\n",
    "\n",
    "# taking edges as input\n",
    "# from the user\n",
    "for i in range(edge):\n",
    "    n,m=(int(x) for x in input(\"enter edge: \").split())\n",
    "    g.addEdge(n,m)\n",
    "    \n",
    "\n",
    "all_nodes=input(\"enter all the nodes in a space seperated manner: \")\n",
    "for i in all_nodes.split():\n",
    "    g.isgoodinitiator(int(i))"
   ]
  },
  {
   "cell_type": "code",
   "execution_count": null,
   "metadata": {},
   "outputs": [],
   "source": []
  },
  {
   "cell_type": "code",
   "execution_count": null,
   "metadata": {},
   "outputs": [],
   "source": []
  }
 ],
 "metadata": {
  "kernelspec": {
   "display_name": "Python 3",
   "language": "python",
   "name": "python3"
  },
  "language_info": {
   "codemirror_mode": {
    "name": "ipython",
    "version": 3
   },
   "file_extension": ".py",
   "mimetype": "text/x-python",
   "name": "python",
   "nbconvert_exporter": "python",
   "pygments_lexer": "ipython3",
   "version": "3.8.5"
  }
 },
 "nbformat": 4,
 "nbformat_minor": 4
}
